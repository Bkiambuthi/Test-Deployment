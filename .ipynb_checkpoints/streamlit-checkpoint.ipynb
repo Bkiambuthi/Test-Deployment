{
 "cells": [
  {
   "cell_type": "code",
   "execution_count": 1,
   "id": "6cf7465a",
   "metadata": {},
   "outputs": [],
   "source": [
    "import subprocess\n",
    "\n",
    "# Command to run the Streamlit app\n",
    "command = [\"streamlit\", \"run\", \"app.py\"]\n",
    "\n",
    "# Use subprocess to run the command\n",
    "process = subprocess.Popen(command)\n",
    "\n",
    "# To stop the Streamlit app, you would typically need to stop the process.\n",
    "# You can do this by calling process.terminate() or process.kill().\n"
   ]
  },
  {
   "cell_type": "code",
   "execution_count": null,
   "id": "6c152de8",
   "metadata": {},
   "outputs": [],
   "source": []
  }
 ],
 "metadata": {
  "kernelspec": {
   "display_name": "Python 3 (ipykernel)",
   "language": "python",
   "name": "python3"
  },
  "language_info": {
   "codemirror_mode": {
    "name": "ipython",
    "version": 3
   },
   "file_extension": ".py",
   "mimetype": "text/x-python",
   "name": "python",
   "nbconvert_exporter": "python",
   "pygments_lexer": "ipython3",
   "version": "3.11.5"
  }
 },
 "nbformat": 4,
 "nbformat_minor": 5
}
