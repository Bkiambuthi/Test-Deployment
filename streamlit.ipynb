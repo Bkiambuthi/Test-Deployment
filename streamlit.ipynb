{
 "cells": [
  {
   "cell_type": "code",
   "execution_count": 2,
   "id": "6cf7465a",
   "metadata": {},
   "outputs": [],
   "source": [
    "import subprocess\n",
    "\n",
    "# Command to run the Streamlit app\n",
    "command = [\"streamlit\", \"run\", \"app.py\"]\n",
    "\n",
    "# Use subprocess to run the command\n",
    "process = subprocess.Popen(command)\n",
    "\n",
    "# To stop the Streamlit app, you would typically need to stop the process.\n",
    "# You can do this by calling process.terminate() or process.kill().\n"
   ]
  },
  {
   "cell_type": "code",
   "execution_count": 2,
   "id": "6c152de8",
   "metadata": {},
   "outputs": [
    {
     "name": "stdout",
     "output_type": "stream",
     "text": [
      "\n",
      "      Welcome to Streamlit!\n",
      "\n",
      "      If you’d like to receive helpful onboarding emails, news, offers, promotions,\n",
      "      and the occasional swag, please enter your email address below. Otherwise,\n",
      "      leave this field blank.\n",
      "\n",
      "      Email:  2024-08-05 22:27:13.652 \n"
     ]
    }
   ],
   "source": [
    "import subprocess\n",
    "\n",
    "# Command to run the Streamlit app\n",
    "command = [\"streamlit\", \"run\", \"app.py\"]\n",
    "\n",
    "# Use subprocess to run the command and capture the output\n",
    "process = subprocess.Popen(command, stdout=subprocess.PIPE, stderr=subprocess.PIPE, text=True)\n",
    "\n",
    "# Print the output and errors\n",
    "for line in process.stdout:\n",
    "    print(line, end='')\n",
    "\n",
    "for line in process.stderr:\n",
    "    print(line, end='')\n",
    "\n",
    "# The process will run until you stop it manually\n",
    "# You can stop it by calling process.terminate() or process.kill()\n"
   ]
  },
  {
   "cell_type": "code",
   "execution_count": 3,
   "id": "5e6086ab",
   "metadata": {},
   "outputs": [
    {
     "name": "stdout",
     "output_type": "stream",
     "text": [
      "Name: streamlit\n",
      "Version: 1.37.1\n",
      "Summary: A faster way to build and share data apps\n",
      "Home-page: https://streamlit.io\n",
      "Author: Snowflake Inc\n",
      "Author-email: hello@streamlit.io\n",
      "License: Apache License 2.0\n",
      "Location: C:\\Users\\Administrator\\anaconda3\\Lib\\site-packages\n",
      "Requires: altair, blinker, cachetools, click, gitpython, numpy, packaging, pandas, pillow, protobuf, pyarrow, pydeck, requests, rich, tenacity, toml, tornado, typing-extensions, watchdog\n",
      "Required-by: \n"
     ]
    }
   ],
   "source": [
    "!pip show streamlit\n"
   ]
  },
  {
   "cell_type": "code",
   "execution_count": null,
   "id": "c75c6736",
   "metadata": {},
   "outputs": [],
   "source": []
  }
 ],
 "metadata": {
  "kernelspec": {
   "display_name": "Python 3 (ipykernel)",
   "language": "python",
   "name": "python3"
  },
  "language_info": {
   "codemirror_mode": {
    "name": "ipython",
    "version": 3
   },
   "file_extension": ".py",
   "mimetype": "text/x-python",
   "name": "python",
   "nbconvert_exporter": "python",
   "pygments_lexer": "ipython3",
   "version": "3.11.5"
  }
 },
 "nbformat": 4,
 "nbformat_minor": 5
}
